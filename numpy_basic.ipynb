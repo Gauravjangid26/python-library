{
 "cells": [
  {
   "cell_type": "code",
   "execution_count": 1,
   "id": "64e1ac86",
   "metadata": {},
   "outputs": [
    {
     "name": "stdout",
     "output_type": "stream",
     "text": [
      "Requirement already satisfied: numpy in /Library/Frameworks/Python.framework/Versions/3.11/lib/python3.11/site-packages (1.24.2)\r\n"
     ]
    }
   ],
   "source": [
    "! pip install numpy"
   ]
  },
  {
   "cell_type": "markdown",
   "id": "b06888f0",
   "metadata": {},
   "source": [
    "## numpy --> numpy is a open source library that is used for scientific computation"
   ]
  },
  {
   "cell_type": "markdown",
   "id": "4799fe9b",
   "metadata": {},
   "source": [
    "## why we use numpy whenever we have list ?\n",
    "    1.homogeneous data type\n",
    "    2.memory less consume\n",
    "    3.less time consume"
   ]
  },
  {
   "cell_type": "code",
   "execution_count": 4,
   "id": "d1612afb",
   "metadata": {},
   "outputs": [],
   "source": [
    "import numpy as np"
   ]
  },
  {
   "cell_type": "code",
   "execution_count": 5,
   "id": "564d899e",
   "metadata": {},
   "outputs": [
    {
     "data": {
      "text/plain": [
       "list"
      ]
     },
     "execution_count": 5,
     "metadata": {},
     "output_type": "execute_result"
    }
   ],
   "source": [
    "a=[12,3,4,2,43]\n",
    "type(a)"
   ]
  },
  {
   "cell_type": "code",
   "execution_count": 6,
   "id": "c3c6e710",
   "metadata": {},
   "outputs": [
    {
     "data": {
      "text/plain": [
       "numpy.ndarray"
      ]
     },
     "execution_count": 6,
     "metadata": {},
     "output_type": "execute_result"
    }
   ],
   "source": [
    "a=np.array(a)\n",
    "type(a)"
   ]
  },
  {
   "cell_type": "code",
   "execution_count": 7,
   "id": "a99f058d",
   "metadata": {},
   "outputs": [
    {
     "data": {
      "text/plain": [
       "array([12,  3,  4,  2, 43])"
      ]
     },
     "execution_count": 7,
     "metadata": {},
     "output_type": "execute_result"
    }
   ],
   "source": [
    "b=np.array(a)\n",
    "b"
   ]
  },
  {
   "cell_type": "code",
   "execution_count": 8,
   "id": "b179ba17",
   "metadata": {},
   "outputs": [
    {
     "data": {
      "text/plain": [
       "numpy.ndarray"
      ]
     },
     "execution_count": 8,
     "metadata": {},
     "output_type": "execute_result"
    }
   ],
   "source": [
    "type(b)"
   ]
  },
  {
   "cell_type": "markdown",
   "id": "6a1d6a42",
   "metadata": {},
   "source": [
    " ## dimension ==>\n",
    "    1-D element exist in x direction\n",
    "    2-D element exist in x and y direction\n",
    "    3-D element exist in x,y,z direction"
   ]
  },
  {
   "cell_type": "code",
   "execution_count": 9,
   "id": "8ab0fb6d",
   "metadata": {},
   "outputs": [
    {
     "name": "stdout",
     "output_type": "stream",
     "text": [
      "total shape (5,)\n",
      "total number of element 5\n",
      "total dimension : 1\n"
     ]
    }
   ],
   "source": [
    "print(\"total shape\",b.shape)\n",
    "print(\"total number of element\",b.size)\n",
    "print(\"total dimension :\",b.ndim)"
   ]
  },
  {
   "cell_type": "markdown",
   "id": "7f633b3e",
   "metadata": {},
   "source": [
    "# 2D array"
   ]
  },
  {
   "cell_type": "code",
   "execution_count": 17,
   "id": "41369dc9",
   "metadata": {},
   "outputs": [
    {
     "data": {
      "text/plain": [
       "[[1, 234, 4], [32, 44, 3], [323, 43, 4]]"
      ]
     },
     "execution_count": 17,
     "metadata": {},
     "output_type": "execute_result"
    }
   ],
   "source": [
    "a=[[1,234,4],[32,44,3],[323,43,4]]\n",
    "a"
   ]
  },
  {
   "cell_type": "code",
   "execution_count": 18,
   "id": "5e43a313",
   "metadata": {},
   "outputs": [
    {
     "data": {
      "text/plain": [
       "array([[  1, 234,   4],\n",
       "       [ 32,  44,   3],\n",
       "       [323,  43,   4]])"
      ]
     },
     "execution_count": 18,
     "metadata": {},
     "output_type": "execute_result"
    }
   ],
   "source": [
    "b=np.array(a)\n",
    "b"
   ]
  },
  {
   "cell_type": "code",
   "execution_count": 19,
   "id": "a80de6b0",
   "metadata": {},
   "outputs": [
    {
     "data": {
      "text/plain": [
       "numpy.ndarray"
      ]
     },
     "execution_count": 19,
     "metadata": {},
     "output_type": "execute_result"
    }
   ],
   "source": [
    "type(b)"
   ]
  },
  {
   "cell_type": "code",
   "execution_count": 20,
   "id": "b3a90051",
   "metadata": {},
   "outputs": [
    {
     "name": "stdout",
     "output_type": "stream",
     "text": [
      "total shape (3, 3)\n",
      "total number of element 9\n",
      "total dimension : 2\n"
     ]
    }
   ],
   "source": [
    "print(\"total shape\",b.shape)\n",
    "print(\"total number of element\",b.size)\n",
    "print(\"total dimension :\",b.ndim)"
   ]
  },
  {
   "cell_type": "markdown",
   "id": "5ee7bfff",
   "metadata": {},
   "source": [
    "## how can we create user defined array?"
   ]
  },
  {
   "cell_type": "code",
   "execution_count": 22,
   "id": "fac1a4aa",
   "metadata": {},
   "outputs": [
    {
     "name": "stdout",
     "output_type": "stream",
     "text": [
      "Enter size:1\n",
      "Enter the numer:2\n"
     ]
    },
    {
     "data": {
      "text/plain": [
       "array([2])"
      ]
     },
     "execution_count": 22,
     "metadata": {},
     "output_type": "execute_result"
    }
   ],
   "source": [
    "a=[]\n",
    "size=int(input(\"Enter size:\"))\n",
    "for i in range(size):\n",
    "    val=int(input(\"Enter the numer:\"))\n",
    "    a.append(val)\n",
    "b=np.array(a)\n",
    "b"
   ]
  },
  {
   "cell_type": "markdown",
   "id": "05c77618",
   "metadata": {},
   "source": []
  },
  {
   "cell_type": "markdown",
   "id": "f06f622e",
   "metadata": {},
   "source": [
    "# Numpy Function\n",
    " images--> are store inn pixels(0-255)==> 0px- black 255px- white ==>normalize - (0,1)px\n",
    " \n",
    " a. black and white image--> height and width\n",
    " \n",
    " b. colorful image--> height,width and colour channel(RGB)\n",
    " \n",
    " matrix==> rows=columns(symmetric matrix) and rows!=columns(asymmetric matrix)\n",
    "\n",
    " random number generator==> random module\n"
   ]
  },
  {
   "cell_type": "markdown",
   "id": "beacd0e0",
   "metadata": {},
   "source": [
    "# 1. Zeros() ==> it will create an array in which all the values are 0.\n"
   ]
  },
  {
   "cell_type": "code",
   "execution_count": 24,
   "id": "60028f24",
   "metadata": {},
   "outputs": [],
   "source": [
    "a=np.zeros(3)"
   ]
  },
  {
   "cell_type": "code",
   "execution_count": 25,
   "id": "e09accbe",
   "metadata": {},
   "outputs": [
    {
     "data": {
      "text/plain": [
       "array([0., 0., 0.])"
      ]
     },
     "execution_count": 25,
     "metadata": {},
     "output_type": "execute_result"
    }
   ],
   "source": [
    "a"
   ]
  },
  {
   "cell_type": "code",
   "execution_count": 26,
   "id": "b24f7595",
   "metadata": {},
   "outputs": [],
   "source": [
    "a=np.zeros((3,4))"
   ]
  },
  {
   "cell_type": "code",
   "execution_count": 27,
   "id": "f6807bcb",
   "metadata": {},
   "outputs": [
    {
     "data": {
      "text/plain": [
       "array([[0., 0., 0., 0.],\n",
       "       [0., 0., 0., 0.],\n",
       "       [0., 0., 0., 0.]])"
      ]
     },
     "execution_count": 27,
     "metadata": {},
     "output_type": "execute_result"
    }
   ],
   "source": [
    "a"
   ]
  },
  {
   "cell_type": "markdown",
   "id": "c320f503",
   "metadata": {},
   "source": [
    "# 2. Ones() ==> it will create an array in which all the values are 1."
   ]
  },
  {
   "cell_type": "code",
   "execution_count": 28,
   "id": "0fa5f8ae",
   "metadata": {},
   "outputs": [],
   "source": [
    "a=np.ones(3)"
   ]
  },
  {
   "cell_type": "code",
   "execution_count": 29,
   "id": "24a85195",
   "metadata": {},
   "outputs": [
    {
     "data": {
      "text/plain": [
       "array([1., 1., 1.])"
      ]
     },
     "execution_count": 29,
     "metadata": {},
     "output_type": "execute_result"
    }
   ],
   "source": [
    "a"
   ]
  },
  {
   "cell_type": "code",
   "execution_count": 30,
   "id": "9c5b23b9",
   "metadata": {},
   "outputs": [],
   "source": [
    "a=np.ones((3,4))"
   ]
  },
  {
   "cell_type": "code",
   "execution_count": 31,
   "id": "b54f68c4",
   "metadata": {},
   "outputs": [
    {
     "data": {
      "text/plain": [
       "array([[1., 1., 1., 1.],\n",
       "       [1., 1., 1., 1.],\n",
       "       [1., 1., 1., 1.]])"
      ]
     },
     "execution_count": 31,
     "metadata": {},
     "output_type": "execute_result"
    }
   ],
   "source": [
    "a"
   ]
  },
  {
   "cell_type": "code",
   "execution_count": 33,
   "id": "0a2d1359",
   "metadata": {},
   "outputs": [
    {
     "data": {
      "text/plain": [
       "(3, 4)"
      ]
     },
     "execution_count": 33,
     "metadata": {},
     "output_type": "execute_result"
    }
   ],
   "source": [
    "a.shape"
   ]
  },
  {
   "cell_type": "code",
   "execution_count": 34,
   "id": "10c25b98",
   "metadata": {},
   "outputs": [],
   "source": [
    "# 3. eye() ==> It will craete an array in which diagonal poistion element are 1 and rest are 0."
   ]
  },
  {
   "cell_type": "code",
   "execution_count": 36,
   "id": "6708190d",
   "metadata": {},
   "outputs": [
    {
     "data": {
      "text/plain": [
       "array([[1., 0., 0.],\n",
       "       [0., 1., 0.],\n",
       "       [0., 0., 1.]])"
      ]
     },
     "execution_count": 36,
     "metadata": {},
     "output_type": "execute_result"
    }
   ],
   "source": [
    "a=np.eye(3) #symetric matrix\n",
    "a"
   ]
  },
  {
   "cell_type": "code",
   "execution_count": 38,
   "id": "050d720f",
   "metadata": {},
   "outputs": [
    {
     "data": {
      "text/plain": [
       "array([[1., 0., 0., 0.],\n",
       "       [0., 1., 0., 0.],\n",
       "       [0., 0., 1., 0.]])"
      ]
     },
     "execution_count": 38,
     "metadata": {},
     "output_type": "execute_result"
    }
   ],
   "source": [
    "a=np.eye(3,4) #asymetric matrix\n",
    "a"
   ]
  },
  {
   "cell_type": "code",
   "execution_count": 39,
   "id": "ba23b7d2",
   "metadata": {},
   "outputs": [],
   "source": [
    "# 4. diag() ==> It will create an array in which we cam customize our diagonal poistion element "
   ]
  },
  {
   "cell_type": "code",
   "execution_count": 41,
   "id": "efd57134",
   "metadata": {},
   "outputs": [
    {
     "data": {
      "text/plain": [
       "array([[1, 0, 0, 0, 0],\n",
       "       [0, 2, 0, 0, 0],\n",
       "       [0, 0, 4, 0, 0],\n",
       "       [0, 0, 0, 5, 0],\n",
       "       [0, 0, 0, 0, 6]])"
      ]
     },
     "execution_count": 41,
     "metadata": {},
     "output_type": "execute_result"
    }
   ],
   "source": [
    "a=np.diag([1,2,4,5,6])\n",
    "a"
   ]
  },
  {
   "cell_type": "markdown",
   "id": "ec50fabb",
   "metadata": {},
   "source": [
    "# 5. RANDOM MODULE\n",
    "- uses\n",
    "    # a.Otp generation\n",
    "    # b. dataset--> dummy colun add\n",
    "    # c. randomly weight initialise"
   ]
  },
  {
   "cell_type": "code",
   "execution_count": 43,
   "id": "9ebac59f",
   "metadata": {},
   "outputs": [],
   "source": [
    "# a. randint(min,max,total_number)"
   ]
  },
  {
   "cell_type": "code",
   "execution_count": 45,
   "id": "ae704809",
   "metadata": {},
   "outputs": [
    {
     "data": {
      "text/plain": [
       "array([9, 7, 7])"
      ]
     },
     "execution_count": 45,
     "metadata": {},
     "output_type": "execute_result"
    }
   ],
   "source": [
    "a=np.random.randint(1,10,3)\n",
    "a"
   ]
  },
  {
   "cell_type": "code",
   "execution_count": 46,
   "id": "d94a1b6b",
   "metadata": {},
   "outputs": [
    {
     "data": {
      "text/plain": [
       "array([0.37594003, 0.43041852, 0.94386185, 0.83885555, 0.12202713])"
      ]
     },
     "execution_count": 46,
     "metadata": {},
     "output_type": "execute_result"
    }
   ],
   "source": [
    "# b. rand(total_number)--> it will return number from 0 to 1\n",
    "a=np.random.rand(5)\n",
    "a"
   ]
  },
  {
   "cell_type": "code",
   "execution_count": 47,
   "id": "4901c641",
   "metadata": {},
   "outputs": [],
   "source": [
    "# c. randn() ==> standard normal distribtion"
   ]
  },
  {
   "cell_type": "code",
   "execution_count": 49,
   "id": "cfec8565",
   "metadata": {},
   "outputs": [
    {
     "data": {
      "text/plain": [
       "array([-1.37640104, -0.50414555, -1.08680261,  0.91713124,  0.34200078])"
      ]
     },
     "execution_count": 49,
     "metadata": {},
     "output_type": "execute_result"
    }
   ],
   "source": [
    "a=np.random.randn(5)\n",
    "a"
   ]
  },
  {
   "cell_type": "code",
   "execution_count": 50,
   "id": "2bf243b9",
   "metadata": {},
   "outputs": [],
   "source": [
    "# d. seed() ==> it will fix our data once the data has ben generated"
   ]
  },
  {
   "cell_type": "code",
   "execution_count": 51,
   "id": "6b17a434",
   "metadata": {},
   "outputs": [
    {
     "data": {
      "text/plain": [
       "array([9, 4, 9])"
      ]
     },
     "execution_count": 51,
     "metadata": {},
     "output_type": "execute_result"
    }
   ],
   "source": [
    "np.random.seed(3)\n",
    "a=np.random.randint(1,10,3)\n",
    "a"
   ]
  },
  {
   "cell_type": "markdown",
   "id": "6b6f1629",
   "metadata": {},
   "source": [
    "# View v/s Copy"
   ]
  },
  {
   "cell_type": "code",
   "execution_count": 52,
   "id": "ad58b1a8",
   "metadata": {},
   "outputs": [
    {
     "data": {
      "text/plain": [
       "array([10, 20, 30, 40, 50, 60, 70])"
      ]
     },
     "execution_count": 52,
     "metadata": {},
     "output_type": "execute_result"
    }
   ],
   "source": [
    "# view is modification in original data\n",
    "a=np.array([10,20,30,40,50,60,70])\n",
    "b=a[2:5]\n",
    "b[:]=0\n",
    "a"
   ]
  },
  {
   "cell_type": "code",
   "execution_count": 53,
   "id": "d8d727e9",
   "metadata": {},
   "outputs": [
    {
     "data": {
      "text/plain": [
       "array([10, 20, 30, 40, 50, 60, 70])"
      ]
     },
     "execution_count": 53,
     "metadata": {},
     "output_type": "execute_result"
    }
   ],
   "source": [
    "# copy not modifiy in original data\n",
    "a=np.array([10,20,30,40,50,60,70])\n",
    "b=a[2:5].copy()\n",
    "b[:]=0\n",
    "a"
   ]
  },
  {
   "cell_type": "markdown",
   "id": "cd251f1c",
   "metadata": {},
   "source": [
    "# reshaping the data\n",
    "\n",
    "   #rows*column=total element\n",
    "   \n",
    "   eg.\n",
    "   \n",
    "   if we have total element =12\n",
    "   then ->\n",
    "   \n",
    "       1*12,12*1\n",
    "       2*6,6*2\n",
    "       3*4,4*3"
   ]
  },
  {
   "cell_type": "code",
   "execution_count": 54,
   "id": "ab4ac23f",
   "metadata": {},
   "outputs": [
    {
     "data": {
      "text/plain": [
       "array([ 9,  1, 22, 20, 11, 44, 42, 11, 22, 39, 33, 21])"
      ]
     },
     "execution_count": 54,
     "metadata": {},
     "output_type": "execute_result"
    }
   ],
   "source": [
    "a=np.random.randint(1,50,12)\n",
    "a"
   ]
  },
  {
   "cell_type": "code",
   "execution_count": 56,
   "id": "a6b15f18",
   "metadata": {},
   "outputs": [
    {
     "data": {
      "text/plain": [
       "(12,)"
      ]
     },
     "execution_count": 56,
     "metadata": {},
     "output_type": "execute_result"
    }
   ],
   "source": [
    "a.shape"
   ]
  },
  {
   "cell_type": "code",
   "execution_count": 57,
   "id": "16a0e5f7",
   "metadata": {},
   "outputs": [
    {
     "data": {
      "text/plain": [
       "array([[ 9,  1, 22, 20, 11, 44],\n",
       "       [42, 11, 22, 39, 33, 21]])"
      ]
     },
     "execution_count": 57,
     "metadata": {},
     "output_type": "execute_result"
    }
   ],
   "source": [
    "a.reshape(2,6)"
   ]
  },
  {
   "cell_type": "code",
   "execution_count": 58,
   "id": "9c2e8b08",
   "metadata": {},
   "outputs": [
    {
     "data": {
      "text/plain": [
       "array([[ 9,  1],\n",
       "       [22, 20],\n",
       "       [11, 44],\n",
       "       [42, 11],\n",
       "       [22, 39],\n",
       "       [33, 21]])"
      ]
     },
     "execution_count": 58,
     "metadata": {},
     "output_type": "execute_result"
    }
   ],
   "source": [
    "a.reshape(6,2)"
   ]
  },
  {
   "cell_type": "code",
   "execution_count": 59,
   "id": "0ea4af5c",
   "metadata": {},
   "outputs": [
    {
     "data": {
      "text/plain": [
       "array([45, 94, 40, 15, 27, 82, 91, 23, 67,  3, 64, 61,  2, 52, 91, 70, 98,\n",
       "       30, 25, 63,  8, 44, 34, 80, 49, 38, 21, 95, 50, 22, 79, 29, 55,  1,\n",
       "       65, 19, 64, 38, 57, 57, 72, 38, 47, 34,  2, 86, 75, 92, 17, 81, 33,\n",
       "       17, 19, 76, 56, 97, 96, 14, 38, 31, 49, 62, 34, 53,  3, 29, 37, 91,\n",
       "       45, 49, 60, 75])"
      ]
     },
     "execution_count": 59,
     "metadata": {},
     "output_type": "execute_result"
    }
   ],
   "source": [
    "a=np.random.randint(1,100,72)\n",
    "a"
   ]
  },
  {
   "cell_type": "code",
   "execution_count": 61,
   "id": "762e01d0",
   "metadata": {},
   "outputs": [
    {
     "data": {
      "text/plain": [
       "array([[45, 94, 40, 15, 27, 82, 91, 23, 67,  3, 64, 61,  2, 52, 91, 70,\n",
       "        98, 30, 25, 63,  8, 44, 34, 80, 49, 38, 21, 95, 50, 22, 79, 29,\n",
       "        55,  1, 65, 19, 64, 38, 57, 57, 72, 38, 47, 34,  2, 86, 75, 92,\n",
       "        17, 81, 33, 17, 19, 76, 56, 97, 96, 14, 38, 31, 49, 62, 34, 53,\n",
       "         3, 29, 37, 91, 45, 49, 60, 75]])"
      ]
     },
     "execution_count": 61,
     "metadata": {},
     "output_type": "execute_result"
    }
   ],
   "source": [
    "a.reshape(1,72)"
   ]
  },
  {
   "cell_type": "code",
   "execution_count": 62,
   "id": "95db42af",
   "metadata": {},
   "outputs": [
    {
     "data": {
      "text/plain": [
       "array([[45, 94, 40, 15, 27, 82, 91, 23, 67,  3, 64, 61,  2, 52, 91, 70,\n",
       "        98, 30, 25, 63,  8, 44, 34, 80, 49, 38, 21, 95, 50, 22, 79, 29,\n",
       "        55,  1, 65, 19],\n",
       "       [64, 38, 57, 57, 72, 38, 47, 34,  2, 86, 75, 92, 17, 81, 33, 17,\n",
       "        19, 76, 56, 97, 96, 14, 38, 31, 49, 62, 34, 53,  3, 29, 37, 91,\n",
       "        45, 49, 60, 75]])"
      ]
     },
     "execution_count": 62,
     "metadata": {},
     "output_type": "execute_result"
    }
   ],
   "source": [
    "a.reshape(2,36)"
   ]
  },
  {
   "cell_type": "code",
   "execution_count": 63,
   "id": "0f0c752e",
   "metadata": {},
   "outputs": [
    {
     "data": {
      "text/plain": [
       "array([[45, 94, 40, 15, 27, 82, 91, 23, 67,  3, 64, 61,  2, 52, 91, 70,\n",
       "        98, 30, 25, 63,  8, 44, 34, 80],\n",
       "       [49, 38, 21, 95, 50, 22, 79, 29, 55,  1, 65, 19, 64, 38, 57, 57,\n",
       "        72, 38, 47, 34,  2, 86, 75, 92],\n",
       "       [17, 81, 33, 17, 19, 76, 56, 97, 96, 14, 38, 31, 49, 62, 34, 53,\n",
       "         3, 29, 37, 91, 45, 49, 60, 75]])"
      ]
     },
     "execution_count": 63,
     "metadata": {},
     "output_type": "execute_result"
    }
   ],
   "source": [
    "a.reshape(3,24)"
   ]
  },
  {
   "cell_type": "code",
   "execution_count": 64,
   "id": "98176f76",
   "metadata": {},
   "outputs": [
    {
     "data": {
      "text/plain": [
       "array([[45, 94, 40, 15, 27, 82, 91, 23, 67,  3, 64, 61,  2, 52, 91, 70,\n",
       "        98, 30],\n",
       "       [25, 63,  8, 44, 34, 80, 49, 38, 21, 95, 50, 22, 79, 29, 55,  1,\n",
       "        65, 19],\n",
       "       [64, 38, 57, 57, 72, 38, 47, 34,  2, 86, 75, 92, 17, 81, 33, 17,\n",
       "        19, 76],\n",
       "       [56, 97, 96, 14, 38, 31, 49, 62, 34, 53,  3, 29, 37, 91, 45, 49,\n",
       "        60, 75]])"
      ]
     },
     "execution_count": 64,
     "metadata": {},
     "output_type": "execute_result"
    }
   ],
   "source": [
    "a.reshape(4,18)"
   ]
  },
  {
   "cell_type": "code",
   "execution_count": 65,
   "id": "9cf77b6c",
   "metadata": {},
   "outputs": [
    {
     "data": {
      "text/plain": [
       "array([[45, 94, 40, 15, 27, 82, 91, 23, 67,  3, 64, 61],\n",
       "       [ 2, 52, 91, 70, 98, 30, 25, 63,  8, 44, 34, 80],\n",
       "       [49, 38, 21, 95, 50, 22, 79, 29, 55,  1, 65, 19],\n",
       "       [64, 38, 57, 57, 72, 38, 47, 34,  2, 86, 75, 92],\n",
       "       [17, 81, 33, 17, 19, 76, 56, 97, 96, 14, 38, 31],\n",
       "       [49, 62, 34, 53,  3, 29, 37, 91, 45, 49, 60, 75]])"
      ]
     },
     "execution_count": 65,
     "metadata": {},
     "output_type": "execute_result"
    }
   ],
   "source": [
    "a.reshape(6,12)"
   ]
  },
  {
   "cell_type": "code",
   "execution_count": 67,
   "id": "b8dbfc42",
   "metadata": {},
   "outputs": [
    {
     "data": {
      "text/plain": [
       "array([[45, 94, 40, 15, 27, 82, 91, 23, 67],\n",
       "       [ 3, 64, 61,  2, 52, 91, 70, 98, 30],\n",
       "       [25, 63,  8, 44, 34, 80, 49, 38, 21],\n",
       "       [95, 50, 22, 79, 29, 55,  1, 65, 19],\n",
       "       [64, 38, 57, 57, 72, 38, 47, 34,  2],\n",
       "       [86, 75, 92, 17, 81, 33, 17, 19, 76],\n",
       "       [56, 97, 96, 14, 38, 31, 49, 62, 34],\n",
       "       [53,  3, 29, 37, 91, 45, 49, 60, 75]])"
      ]
     },
     "execution_count": 67,
     "metadata": {},
     "output_type": "execute_result"
    }
   ],
   "source": [
    "a.reshape(8,9)"
   ]
  },
  {
   "cell_type": "code",
   "execution_count": 68,
   "id": "963d3cda",
   "metadata": {},
   "outputs": [
    {
     "data": {
      "text/plain": [
       "array([[45, 94, 40, 15, 27, 82, 91, 23],\n",
       "       [67,  3, 64, 61,  2, 52, 91, 70],\n",
       "       [98, 30, 25, 63,  8, 44, 34, 80],\n",
       "       [49, 38, 21, 95, 50, 22, 79, 29],\n",
       "       [55,  1, 65, 19, 64, 38, 57, 57],\n",
       "       [72, 38, 47, 34,  2, 86, 75, 92],\n",
       "       [17, 81, 33, 17, 19, 76, 56, 97],\n",
       "       [96, 14, 38, 31, 49, 62, 34, 53],\n",
       "       [ 3, 29, 37, 91, 45, 49, 60, 75]])"
      ]
     },
     "execution_count": 68,
     "metadata": {},
     "output_type": "execute_result"
    }
   ],
   "source": [
    "a.reshape(9,8)"
   ]
  },
  {
   "cell_type": "markdown",
   "id": "21e803d5",
   "metadata": {},
   "source": [
    "# Conditional selection inn numpy"
   ]
  },
  {
   "cell_type": "code",
   "execution_count": 70,
   "id": "89e66877",
   "metadata": {},
   "outputs": [
    {
     "data": {
      "text/plain": [
       "array([ 1,  2,  3,  4,  5,  6,  7,  8,  9, 10, 11, 12, 13, 14, 15])"
      ]
     },
     "execution_count": 70,
     "metadata": {},
     "output_type": "execute_result"
    }
   ],
   "source": [
    "a=np.arange(1,16)\n",
    "a"
   ]
  },
  {
   "cell_type": "code",
   "execution_count": 71,
   "id": "81047352",
   "metadata": {},
   "outputs": [
    {
     "data": {
      "text/plain": [
       "array([False, False, False, False, False, False, False, False, False,\n",
       "       False,  True,  True,  True,  True,  True])"
      ]
     },
     "execution_count": 71,
     "metadata": {},
     "output_type": "execute_result"
    }
   ],
   "source": [
    "a>10"
   ]
  },
  {
   "cell_type": "code",
   "execution_count": 72,
   "id": "df489b09",
   "metadata": {},
   "outputs": [
    {
     "data": {
      "text/plain": [
       "array([ True,  True,  True,  True,  True,  True,  True,  True,  True,\n",
       "       False, False, False, False, False, False])"
      ]
     },
     "execution_count": 72,
     "metadata": {},
     "output_type": "execute_result"
    }
   ],
   "source": [
    "a<10"
   ]
  },
  {
   "cell_type": "code",
   "execution_count": 75,
   "id": "d935ccf0",
   "metadata": {},
   "outputs": [
    {
     "data": {
      "text/plain": [
       "array([11, 12, 13, 14, 15])"
      ]
     },
     "execution_count": 75,
     "metadata": {},
     "output_type": "execute_result"
    }
   ],
   "source": [
    "b=a>10\n",
    "a[b]"
   ]
  },
  {
   "cell_type": "code",
   "execution_count": 76,
   "id": "1d0a60d4",
   "metadata": {},
   "outputs": [
    {
     "data": {
      "text/plain": [
       "array([1, 2, 3, 4, 5, 6, 7, 8, 9])"
      ]
     },
     "execution_count": 76,
     "metadata": {},
     "output_type": "execute_result"
    }
   ],
   "source": [
    "c=a<10\n",
    "a[c]"
   ]
  },
  {
   "cell_type": "code",
   "execution_count": 78,
   "id": "87de832a",
   "metadata": {},
   "outputs": [
    {
     "data": {
      "text/plain": [
       "array([ 2,  4,  6,  8, 10, 12, 14])"
      ]
     },
     "execution_count": 78,
     "metadata": {},
     "output_type": "execute_result"
    }
   ],
   "source": [
    "a[a%2==0]"
   ]
  },
  {
   "cell_type": "code",
   "execution_count": 79,
   "id": "d3b2b894",
   "metadata": {},
   "outputs": [
    {
     "data": {
      "text/plain": [
       "array([ 1,  3,  5,  7,  9, 11, 13, 15])"
      ]
     },
     "execution_count": 79,
     "metadata": {},
     "output_type": "execute_result"
    }
   ],
   "source": [
    "a[a%2!=0]"
   ]
  },
  {
   "cell_type": "code",
   "execution_count": 80,
   "id": "27e99e02",
   "metadata": {},
   "outputs": [
    {
     "data": {
      "text/plain": [
       "array([[1, 2],\n",
       "       [3, 4]])"
      ]
     },
     "execution_count": 80,
     "metadata": {},
     "output_type": "execute_result"
    }
   ],
   "source": [
    "a=np.arange(1,5).reshape(2,2)\n",
    "a"
   ]
  },
  {
   "cell_type": "code",
   "execution_count": 81,
   "id": "2db952e1",
   "metadata": {},
   "outputs": [
    {
     "data": {
      "text/plain": [
       "array([[5, 6],\n",
       "       [7, 8]])"
      ]
     },
     "execution_count": 81,
     "metadata": {},
     "output_type": "execute_result"
    }
   ],
   "source": [
    "b=np.arange(5,9).reshape(2,2)\n",
    "b"
   ]
  },
  {
   "cell_type": "code",
   "execution_count": 82,
   "id": "84bd10f9",
   "metadata": {},
   "outputs": [
    {
     "data": {
      "text/plain": [
       "array([[ 6,  8],\n",
       "       [10, 12]])"
      ]
     },
     "execution_count": 82,
     "metadata": {},
     "output_type": "execute_result"
    }
   ],
   "source": [
    "a+b"
   ]
  },
  {
   "cell_type": "code",
   "execution_count": 83,
   "id": "c65f519d",
   "metadata": {},
   "outputs": [
    {
     "data": {
      "text/plain": [
       "array([[-4, -4],\n",
       "       [-4, -4]])"
      ]
     },
     "execution_count": 83,
     "metadata": {},
     "output_type": "execute_result"
    }
   ],
   "source": [
    "a-b"
   ]
  },
  {
   "cell_type": "code",
   "execution_count": 84,
   "id": "12557ca9",
   "metadata": {},
   "outputs": [
    {
     "data": {
      "text/plain": [
       "array([[ 5, 12],\n",
       "       [21, 32]])"
      ]
     },
     "execution_count": 84,
     "metadata": {},
     "output_type": "execute_result"
    }
   ],
   "source": [
    "a*b  ## yeh wrong hai ,matrix multiplication"
   ]
  },
  {
   "cell_type": "code",
   "execution_count": 86,
   "id": "64ac7270",
   "metadata": {},
   "outputs": [
    {
     "data": {
      "text/plain": [
       "array([[19, 22],\n",
       "       [43, 50]])"
      ]
     },
     "execution_count": 86,
     "metadata": {},
     "output_type": "execute_result"
    }
   ],
   "source": [
    "a.dot(b)"
   ]
  },
  {
   "cell_type": "code",
   "execution_count": 88,
   "id": "3b3e18a5",
   "metadata": {},
   "outputs": [
    {
     "data": {
      "text/plain": [
       "array([[1, 2, 3],\n",
       "       [4, 5, 6],\n",
       "       [7, 8, 9]])"
      ]
     },
     "execution_count": 88,
     "metadata": {},
     "output_type": "execute_result"
    }
   ],
   "source": [
    "a=np.arange(1,10).reshape(3,3)\n",
    "a"
   ]
  },
  {
   "cell_type": "code",
   "execution_count": 90,
   "id": "5c065ab2",
   "metadata": {},
   "outputs": [
    {
     "data": {
      "text/plain": [
       "45"
      ]
     },
     "execution_count": 90,
     "metadata": {},
     "output_type": "execute_result"
    }
   ],
   "source": [
    "np.sum(a)"
   ]
  },
  {
   "cell_type": "code",
   "execution_count": 92,
   "id": "6c8c6b91",
   "metadata": {},
   "outputs": [
    {
     "data": {
      "text/plain": [
       "array([ 6, 15, 24])"
      ]
     },
     "execution_count": 92,
     "metadata": {},
     "output_type": "execute_result"
    }
   ],
   "source": [
    "np.sum(a,axis=1) ## row wise total"
   ]
  },
  {
   "cell_type": "code",
   "execution_count": 93,
   "id": "8d268674",
   "metadata": {},
   "outputs": [
    {
     "data": {
      "text/plain": [
       "array([12, 15, 18])"
      ]
     },
     "execution_count": 93,
     "metadata": {},
     "output_type": "execute_result"
    }
   ],
   "source": [
    "np.sum(a,axis=0) ## column wise total"
   ]
  },
  {
   "cell_type": "markdown",
   "id": "f52e1f6f",
   "metadata": {},
   "source": [
    "# Unique()\n",
    "    - it will return unique values or eliminate duplicates values\n",
    "    - it will return 3 array\n",
    "        1.unique values of array\n",
    "        2.indexing of original value\n",
    "        3.return frequency of each unique value"
   ]
  },
  {
   "cell_type": "code",
   "execution_count": 94,
   "id": "1cb09b52",
   "metadata": {},
   "outputs": [
    {
     "data": {
      "text/plain": [
       "array([1, 2, 2, 2, 2, 4, 5, 2, 3, 4, 4, 6, 3])"
      ]
     },
     "execution_count": 94,
     "metadata": {},
     "output_type": "execute_result"
    }
   ],
   "source": [
    "a=np.array([1,2,2,2,2,4,5,2,3,4,4,6,3])\n",
    "a"
   ]
  },
  {
   "cell_type": "code",
   "execution_count": 95,
   "id": "1666edc9",
   "metadata": {},
   "outputs": [
    {
     "data": {
      "text/plain": [
       "(array([1, 2, 3, 4, 5, 6]),\n",
       " array([ 0,  1,  8,  5,  6, 11]),\n",
       " array([1, 5, 2, 3, 1, 1]))"
      ]
     },
     "execution_count": 95,
     "metadata": {},
     "output_type": "execute_result"
    }
   ],
   "source": [
    "np.unique(a,return_index=True,return_counts=True)"
   ]
  },
  {
   "cell_type": "markdown",
   "id": "015f36f5",
   "metadata": {},
   "source": [
    "# linspace() \n",
    "    - It will combined in which difference of each value will be equal"
   ]
  },
  {
   "cell_type": "code",
   "execution_count": 97,
   "id": "a8e983aa",
   "metadata": {},
   "outputs": [
    {
     "data": {
      "text/plain": [
       "array([1.  , 1.25, 1.5 , 1.75, 2.  ])"
      ]
     },
     "execution_count": 97,
     "metadata": {},
     "output_type": "execute_result"
    }
   ],
   "source": [
    "a=np.linspace(1,2,5)\n",
    "a"
   ]
  },
  {
   "cell_type": "markdown",
   "id": "8172cd1e",
   "metadata": {},
   "source": [
    "# stacking in numpy\n",
    "    1. hstack() --> It will combined multiple array into horizonatlly\n",
    "    2. vstack() --> It will combined multiple array into vertically"
   ]
  },
  {
   "cell_type": "code",
   "execution_count": 98,
   "id": "e3651b7b",
   "metadata": {},
   "outputs": [],
   "source": [
    "a=np.arange(1,5)\n",
    "b=np.arange(5,9)\n",
    "c=np.arange(9,13)"
   ]
  },
  {
   "cell_type": "code",
   "execution_count": 99,
   "id": "8db3062d",
   "metadata": {},
   "outputs": [
    {
     "data": {
      "text/plain": [
       "array([ 1,  2,  3,  4,  5,  6,  7,  8,  9, 10, 11, 12])"
      ]
     },
     "execution_count": 99,
     "metadata": {},
     "output_type": "execute_result"
    }
   ],
   "source": [
    "np.hstack((a,b,c))"
   ]
  },
  {
   "cell_type": "code",
   "execution_count": 100,
   "id": "245a929d",
   "metadata": {},
   "outputs": [
    {
     "data": {
      "text/plain": [
       "array([[ 1,  2,  3,  4],\n",
       "       [ 5,  6,  7,  8],\n",
       "       [ 9, 10, 11, 12]])"
      ]
     },
     "execution_count": 100,
     "metadata": {},
     "output_type": "execute_result"
    }
   ],
   "source": [
    "np.vstack((a,b,c))"
   ]
  },
  {
   "cell_type": "code",
   "execution_count": null,
   "id": "f4fb8586",
   "metadata": {},
   "outputs": [],
   "source": []
  }
 ],
 "metadata": {
  "kernelspec": {
   "display_name": "Python 3 (ipykernel)",
   "language": "python",
   "name": "python3"
  },
  "language_info": {
   "codemirror_mode": {
    "name": "ipython",
    "version": 3
   },
   "file_extension": ".py",
   "mimetype": "text/x-python",
   "name": "python",
   "nbconvert_exporter": "python",
   "pygments_lexer": "ipython3",
   "version": "3.11.1"
  }
 },
 "nbformat": 4,
 "nbformat_minor": 5
}
