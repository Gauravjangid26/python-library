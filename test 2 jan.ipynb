{
 "cells": [
  {
   "cell_type": "markdown",
   "id": "5681b7e7",
   "metadata": {},
   "source": [
    "Q.1 What is Pandas, and how is it different from NumPy?\n",
    "\n",
    "Q.2 Explain the difference between a Series and a DataFrame in Pandas.\n",
    "\n",
    "Q.3 How can you create a DataFrame in Pandas from a dictionary?\n",
    "\n",
    "Q.4 What is the purpose of the index in a Pandas DataFrame or Series?\n",
    "\n",
    "Q.5 How can you add a new column to an existing DataFrame?\n",
    "\n",
    "Q.6 Explain how you can delete a column or row from a DataFrame.\n",
    "\n",
    "Q.7 What are the different ways to select subsets of data from a DataFrame?\n",
    "\n",
    "Q.8 How do you handle missing data in Pandas?\n",
    "\n",
    "Q.9 How can you group data in a DataFrame and apply aggregate functions?\n",
    "\n",
    "Q.10 What is the difference between the apply(), map(), functions in Pandas?\n",
    "\n",
    "Q.11 How does the merge() function in Pandas differ from the concat() function?\n",
    "\n",
    "Q.12 What is the purpose of the pivot_table() function in Pandas?\n",
    "\n",
    "Q.13 Explain the difference between loc[] and iloc[] in Pandas.\n",
    "\n",
    "Q.14 How can you sort a DataFrame by its index or values?\n",
    "\n",
    "Q.15 If you have a DataFrame with duplicate rows, how can you remove them?\n",
    "\n",
    "Q.16 How can you check the data types of each column in a DataFrame?\n",
    "\n",
    "Q.17 What methods can you use to get a quick statistical summary of a DataFrame?\n",
    "\n",
    "Q.18 How can you count the number of unique values in a specific column?\n",
    "\n",
    "Q.19 How can you identify and filter rows based on a condition in a DataFrame?\n",
    "\n",
    "Q.20 How can you count the number of unique values in a specific column?"
   ]
  },
  {
   "cell_type": "code",
   "execution_count": 1,
   "id": "67440a39",
   "metadata": {},
   "outputs": [],
   "source": [
    "#Q1\n",
    "# pandas is python library,it is used for manipulation of dataset and managing\n",
    "# numpy is also python library for creating arrays and mathematical operation,where pandas is used for CRUD operation "
   ]
  },
  {
   "cell_type": "code",
   "execution_count": 2,
   "id": "4b5881a1",
   "metadata": {},
   "outputs": [],
   "source": [
    "#Q2\n",
    "#series is data in single dimension(single column) with index values,series had 1 dim\n",
    "#dataframe is data in multi-dimension(multiple column) with index values,dataframe has ndim"
   ]
  },
  {
   "cell_type": "code",
   "execution_count": 4,
   "id": "7a60716e",
   "metadata": {},
   "outputs": [
    {
     "data": {
      "text/html": [
       "<div>\n",
       "<style scoped>\n",
       "    .dataframe tbody tr th:only-of-type {\n",
       "        vertical-align: middle;\n",
       "    }\n",
       "\n",
       "    .dataframe tbody tr th {\n",
       "        vertical-align: top;\n",
       "    }\n",
       "\n",
       "    .dataframe thead th {\n",
       "        text-align: right;\n",
       "    }\n",
       "</style>\n",
       "<table border=\"1\" class=\"dataframe\">\n",
       "  <thead>\n",
       "    <tr style=\"text-align: right;\">\n",
       "      <th></th>\n",
       "      <th>name</th>\n",
       "      <th>age</th>\n",
       "    </tr>\n",
       "  </thead>\n",
       "  <tbody>\n",
       "    <tr>\n",
       "      <th>0</th>\n",
       "      <td>gaurav</td>\n",
       "      <td>20</td>\n",
       "    </tr>\n",
       "    <tr>\n",
       "      <th>1</th>\n",
       "      <td>pankaj</td>\n",
       "      <td>21</td>\n",
       "    </tr>\n",
       "    <tr>\n",
       "      <th>2</th>\n",
       "      <td>raj</td>\n",
       "      <td>22</td>\n",
       "    </tr>\n",
       "  </tbody>\n",
       "</table>\n",
       "</div>"
      ],
      "text/plain": [
       "     name  age\n",
       "0  gaurav   20\n",
       "1  pankaj   21\n",
       "2     raj   22"
      ]
     },
     "execution_count": 4,
     "metadata": {},
     "output_type": "execute_result"
    }
   ],
   "source": [
    "#Q3\n",
    "import pandas as pd\n",
    "data={\"name\":[\"gaurav\",\"pankaj\",\"raj\"],\n",
    "     \"age\":[20,21,22]}\n",
    "df=pd.DataFrame(data)\n",
    "df"
   ]
  },
  {
   "cell_type": "code",
   "execution_count": 6,
   "id": "9fb5f72c",
   "metadata": {},
   "outputs": [],
   "source": [
    "#Q4\n",
    "# index behaves like a primary key in dataset, In case of loc we extract dataframe using index values\n",
    "# indexing can be userdefined,it is neccesary for series or dataframe to have index"
   ]
  },
  {
   "cell_type": "code",
   "execution_count": 9,
   "id": "0094cdb3",
   "metadata": {},
   "outputs": [
    {
     "data": {
      "text/html": [
       "<div>\n",
       "<style scoped>\n",
       "    .dataframe tbody tr th:only-of-type {\n",
       "        vertical-align: middle;\n",
       "    }\n",
       "\n",
       "    .dataframe tbody tr th {\n",
       "        vertical-align: top;\n",
       "    }\n",
       "\n",
       "    .dataframe thead th {\n",
       "        text-align: right;\n",
       "    }\n",
       "</style>\n",
       "<table border=\"1\" class=\"dataframe\">\n",
       "  <thead>\n",
       "    <tr style=\"text-align: right;\">\n",
       "      <th></th>\n",
       "      <th>name</th>\n",
       "      <th>age</th>\n",
       "      <th>address</th>\n",
       "    </tr>\n",
       "  </thead>\n",
       "  <tbody>\n",
       "    <tr>\n",
       "      <th>0</th>\n",
       "      <td>gaurav</td>\n",
       "      <td>20</td>\n",
       "      <td>nagaur</td>\n",
       "    </tr>\n",
       "    <tr>\n",
       "      <th>1</th>\n",
       "      <td>pankaj</td>\n",
       "      <td>21</td>\n",
       "      <td>jaipur</td>\n",
       "    </tr>\n",
       "    <tr>\n",
       "      <th>2</th>\n",
       "      <td>raj</td>\n",
       "      <td>22</td>\n",
       "      <td>jaipur</td>\n",
       "    </tr>\n",
       "  </tbody>\n",
       "</table>\n",
       "</div>"
      ],
      "text/plain": [
       "     name  age address\n",
       "0  gaurav   20  nagaur\n",
       "1  pankaj   21  jaipur\n",
       "2     raj   22  jaipur"
      ]
     },
     "execution_count": 9,
     "metadata": {},
     "output_type": "execute_result"
    }
   ],
   "source": [
    "# Q5\n",
    "df[\"address\"]=[\"nagaur\",\"jaipur\",\"jaipur\"]\n",
    "df"
   ]
  },
  {
   "cell_type": "code",
   "execution_count": 31,
   "id": "4ab3c0e7",
   "metadata": {},
   "outputs": [
    {
     "data": {
      "text/html": [
       "<div>\n",
       "<style scoped>\n",
       "    .dataframe tbody tr th:only-of-type {\n",
       "        vertical-align: middle;\n",
       "    }\n",
       "\n",
       "    .dataframe tbody tr th {\n",
       "        vertical-align: top;\n",
       "    }\n",
       "\n",
       "    .dataframe thead th {\n",
       "        text-align: right;\n",
       "    }\n",
       "</style>\n",
       "<table border=\"1\" class=\"dataframe\">\n",
       "  <thead>\n",
       "    <tr style=\"text-align: right;\">\n",
       "      <th></th>\n",
       "      <th>name</th>\n",
       "      <th>age</th>\n",
       "    </tr>\n",
       "  </thead>\n",
       "  <tbody>\n",
       "    <tr>\n",
       "      <th>0</th>\n",
       "      <td>gaurav</td>\n",
       "      <td>20</td>\n",
       "    </tr>\n",
       "    <tr>\n",
       "      <th>1</th>\n",
       "      <td>pankaj</td>\n",
       "      <td>21</td>\n",
       "    </tr>\n",
       "    <tr>\n",
       "      <th>2</th>\n",
       "      <td>raj</td>\n",
       "      <td>22</td>\n",
       "    </tr>\n",
       "  </tbody>\n",
       "</table>\n",
       "</div>"
      ],
      "text/plain": [
       "     name  age\n",
       "0  gaurav   20\n",
       "1  pankaj   21\n",
       "2     raj   22"
      ]
     },
     "execution_count": 31,
     "metadata": {},
     "output_type": "execute_result"
    }
   ],
   "source": [
    "#Q6\n",
    "#column drop\n",
    "df.drop(columns=['address'],axis=1)"
   ]
  },
  {
   "cell_type": "code",
   "execution_count": 11,
   "id": "3a3c5b63",
   "metadata": {},
   "outputs": [
    {
     "data": {
      "text/html": [
       "<div>\n",
       "<style scoped>\n",
       "    .dataframe tbody tr th:only-of-type {\n",
       "        vertical-align: middle;\n",
       "    }\n",
       "\n",
       "    .dataframe tbody tr th {\n",
       "        vertical-align: top;\n",
       "    }\n",
       "\n",
       "    .dataframe thead th {\n",
       "        text-align: right;\n",
       "    }\n",
       "</style>\n",
       "<table border=\"1\" class=\"dataframe\">\n",
       "  <thead>\n",
       "    <tr style=\"text-align: right;\">\n",
       "      <th></th>\n",
       "      <th>name</th>\n",
       "      <th>age</th>\n",
       "      <th>address</th>\n",
       "    </tr>\n",
       "  </thead>\n",
       "  <tbody>\n",
       "    <tr>\n",
       "      <th>0</th>\n",
       "      <td>gaurav</td>\n",
       "      <td>20</td>\n",
       "      <td>nagaur</td>\n",
       "    </tr>\n",
       "    <tr>\n",
       "      <th>1</th>\n",
       "      <td>pankaj</td>\n",
       "      <td>21</td>\n",
       "      <td>jaipur</td>\n",
       "    </tr>\n",
       "  </tbody>\n",
       "</table>\n",
       "</div>"
      ],
      "text/plain": [
       "     name  age address\n",
       "0  gaurav   20  nagaur\n",
       "1  pankaj   21  jaipur"
      ]
     },
     "execution_count": 11,
     "metadata": {},
     "output_type": "execute_result"
    }
   ],
   "source": [
    "#row drop\n",
    "df.drop(index=2,axis=0)"
   ]
  },
  {
   "cell_type": "code",
   "execution_count": 12,
   "id": "ad2eb82f",
   "metadata": {},
   "outputs": [],
   "source": [
    "#Q7\n",
    "#1.Dataframe.loc[row label,column label]\n",
    "#2.Dataframe.iloc[range of row,range of column]\n",
    "#3.pd.pivot_table(index,columns,values,aggrfun)\n",
    "#4.using slicing and condition based slicing :- data[column name]-->columns,data[range rows],data[[column name]]-->multiple columns\n",
    "#5.df.where()"
   ]
  },
  {
   "cell_type": "code",
   "execution_count": 33,
   "id": "04efb7a1",
   "metadata": {},
   "outputs": [
    {
     "data": {
      "text/html": [
       "<div>\n",
       "<style scoped>\n",
       "    .dataframe tbody tr th:only-of-type {\n",
       "        vertical-align: middle;\n",
       "    }\n",
       "\n",
       "    .dataframe tbody tr th {\n",
       "        vertical-align: top;\n",
       "    }\n",
       "\n",
       "    .dataframe thead th {\n",
       "        text-align: right;\n",
       "    }\n",
       "</style>\n",
       "<table border=\"1\" class=\"dataframe\">\n",
       "  <thead>\n",
       "    <tr style=\"text-align: right;\">\n",
       "      <th></th>\n",
       "      <th>name</th>\n",
       "      <th>age</th>\n",
       "      <th>address</th>\n",
       "    </tr>\n",
       "  </thead>\n",
       "  <tbody>\n",
       "    <tr>\n",
       "      <th>0</th>\n",
       "      <td>gaurav</td>\n",
       "      <td>20</td>\n",
       "      <td>nagaur</td>\n",
       "    </tr>\n",
       "    <tr>\n",
       "      <th>1</th>\n",
       "      <td>pankaj</td>\n",
       "      <td>21</td>\n",
       "      <td>jaipur</td>\n",
       "    </tr>\n",
       "    <tr>\n",
       "      <th>2</th>\n",
       "      <td>raj</td>\n",
       "      <td>22</td>\n",
       "      <td>jaipur</td>\n",
       "    </tr>\n",
       "  </tbody>\n",
       "</table>\n",
       "</div>"
      ],
      "text/plain": [
       "     name  age address\n",
       "0  gaurav   20  nagaur\n",
       "1  pankaj   21  jaipur\n",
       "2     raj   22  jaipur"
      ]
     },
     "execution_count": 33,
     "metadata": {},
     "output_type": "execute_result"
    }
   ],
   "source": [
    "#Q8\n",
    "df.isnull().sum()\n",
    "df.dropna()"
   ]
  },
  {
   "cell_type": "code",
   "execution_count": 14,
   "id": "a4a78c3d",
   "metadata": {},
   "outputs": [
    {
     "data": {
      "text/plain": [
       "name\n",
       "gaurav    20\n",
       "pankaj    21\n",
       "raj       22\n",
       "Name: age, dtype: int64"
      ]
     },
     "execution_count": 14,
     "metadata": {},
     "output_type": "execute_result"
    }
   ],
   "source": [
    "#Q9\n",
    "df.groupby(\"name\")[\"age\"].sum()"
   ]
  },
  {
   "cell_type": "code",
   "execution_count": 15,
   "id": "6d169ee7",
   "metadata": {},
   "outputs": [],
   "source": [
    "#Q10\n",
    "#apply--> is used to apply the function on dataframe --->df.apply(func)\n",
    "#map --->is used to change/replace the data with given mapping value-->df.map(dict_values)"
   ]
  },
  {
   "cell_type": "code",
   "execution_count": 16,
   "id": "e7849a04",
   "metadata": {},
   "outputs": [],
   "source": [
    "#Q11\n",
    "# merge is works as join operation on data,merge operation is horizonatal on common column\n",
    "# it has all types of join-->inner,outer,full,cross\n",
    "# whereas concat will add two dataframe horizonatally"
   ]
  },
  {
   "cell_type": "code",
   "execution_count": 17,
   "id": "af42ec3f",
   "metadata": {},
   "outputs": [],
   "source": [
    "#Q12\n",
    "# pivot table is used for finding relation between index values and columns values by creating values\n",
    "# it is also like a dataframe "
   ]
  },
  {
   "cell_type": "code",
   "execution_count": 34,
   "id": "5e8ceefb",
   "metadata": {},
   "outputs": [],
   "source": [
    "#Q13\n",
    "#1.Dataframe.loc[row label,column label]-->label based slicing\n",
    "#2.Dataframe.iloc[range of row,range of column]-->index based slicing"
   ]
  },
  {
   "cell_type": "code",
   "execution_count": 20,
   "id": "662c96d3",
   "metadata": {},
   "outputs": [
    {
     "data": {
      "text/html": [
       "<div>\n",
       "<style scoped>\n",
       "    .dataframe tbody tr th:only-of-type {\n",
       "        vertical-align: middle;\n",
       "    }\n",
       "\n",
       "    .dataframe tbody tr th {\n",
       "        vertical-align: top;\n",
       "    }\n",
       "\n",
       "    .dataframe thead th {\n",
       "        text-align: right;\n",
       "    }\n",
       "</style>\n",
       "<table border=\"1\" class=\"dataframe\">\n",
       "  <thead>\n",
       "    <tr style=\"text-align: right;\">\n",
       "      <th></th>\n",
       "      <th>name</th>\n",
       "      <th>age</th>\n",
       "      <th>address</th>\n",
       "    </tr>\n",
       "  </thead>\n",
       "  <tbody>\n",
       "    <tr>\n",
       "      <th>0</th>\n",
       "      <td>gaurav</td>\n",
       "      <td>20</td>\n",
       "      <td>nagaur</td>\n",
       "    </tr>\n",
       "    <tr>\n",
       "      <th>1</th>\n",
       "      <td>pankaj</td>\n",
       "      <td>21</td>\n",
       "      <td>jaipur</td>\n",
       "    </tr>\n",
       "    <tr>\n",
       "      <th>2</th>\n",
       "      <td>raj</td>\n",
       "      <td>22</td>\n",
       "      <td>jaipur</td>\n",
       "    </tr>\n",
       "  </tbody>\n",
       "</table>\n",
       "</div>"
      ],
      "text/plain": [
       "     name  age address\n",
       "0  gaurav   20  nagaur\n",
       "1  pankaj   21  jaipur\n",
       "2     raj   22  jaipur"
      ]
     },
     "execution_count": 20,
     "metadata": {},
     "output_type": "execute_result"
    }
   ],
   "source": [
    "#Q14\n",
    "df.sort_values(by=['age'])\n",
    "df.sort_index()"
   ]
  },
  {
   "cell_type": "code",
   "execution_count": 22,
   "id": "f5491aa3",
   "metadata": {},
   "outputs": [
    {
     "data": {
      "text/html": [
       "<div>\n",
       "<style scoped>\n",
       "    .dataframe tbody tr th:only-of-type {\n",
       "        vertical-align: middle;\n",
       "    }\n",
       "\n",
       "    .dataframe tbody tr th {\n",
       "        vertical-align: top;\n",
       "    }\n",
       "\n",
       "    .dataframe thead th {\n",
       "        text-align: right;\n",
       "    }\n",
       "</style>\n",
       "<table border=\"1\" class=\"dataframe\">\n",
       "  <thead>\n",
       "    <tr style=\"text-align: right;\">\n",
       "      <th></th>\n",
       "      <th>name</th>\n",
       "      <th>age</th>\n",
       "      <th>address</th>\n",
       "    </tr>\n",
       "  </thead>\n",
       "  <tbody>\n",
       "    <tr>\n",
       "      <th>0</th>\n",
       "      <td>gaurav</td>\n",
       "      <td>20</td>\n",
       "      <td>nagaur</td>\n",
       "    </tr>\n",
       "    <tr>\n",
       "      <th>1</th>\n",
       "      <td>pankaj</td>\n",
       "      <td>21</td>\n",
       "      <td>jaipur</td>\n",
       "    </tr>\n",
       "    <tr>\n",
       "      <th>2</th>\n",
       "      <td>raj</td>\n",
       "      <td>22</td>\n",
       "      <td>jaipur</td>\n",
       "    </tr>\n",
       "  </tbody>\n",
       "</table>\n",
       "</div>"
      ],
      "text/plain": [
       "     name  age address\n",
       "0  gaurav   20  nagaur\n",
       "1  pankaj   21  jaipur\n",
       "2     raj   22  jaipur"
      ]
     },
     "execution_count": 22,
     "metadata": {},
     "output_type": "execute_result"
    }
   ],
   "source": [
    "#Q15\n",
    "df.drop_duplicates()"
   ]
  },
  {
   "cell_type": "code",
   "execution_count": 24,
   "id": "6ab7e0e2",
   "metadata": {},
   "outputs": [
    {
     "data": {
      "text/plain": [
       "name       object\n",
       "age         int64\n",
       "address    object\n",
       "dtype: object"
      ]
     },
     "execution_count": 24,
     "metadata": {},
     "output_type": "execute_result"
    }
   ],
   "source": [
    "#Q16\n",
    "df.dtypes"
   ]
  },
  {
   "cell_type": "code",
   "execution_count": 25,
   "id": "51a5fa63",
   "metadata": {},
   "outputs": [
    {
     "data": {
      "text/html": [
       "<div>\n",
       "<style scoped>\n",
       "    .dataframe tbody tr th:only-of-type {\n",
       "        vertical-align: middle;\n",
       "    }\n",
       "\n",
       "    .dataframe tbody tr th {\n",
       "        vertical-align: top;\n",
       "    }\n",
       "\n",
       "    .dataframe thead th {\n",
       "        text-align: right;\n",
       "    }\n",
       "</style>\n",
       "<table border=\"1\" class=\"dataframe\">\n",
       "  <thead>\n",
       "    <tr style=\"text-align: right;\">\n",
       "      <th></th>\n",
       "      <th>age</th>\n",
       "    </tr>\n",
       "  </thead>\n",
       "  <tbody>\n",
       "    <tr>\n",
       "      <th>count</th>\n",
       "      <td>3.0</td>\n",
       "    </tr>\n",
       "    <tr>\n",
       "      <th>mean</th>\n",
       "      <td>21.0</td>\n",
       "    </tr>\n",
       "    <tr>\n",
       "      <th>std</th>\n",
       "      <td>1.0</td>\n",
       "    </tr>\n",
       "    <tr>\n",
       "      <th>min</th>\n",
       "      <td>20.0</td>\n",
       "    </tr>\n",
       "    <tr>\n",
       "      <th>25%</th>\n",
       "      <td>20.5</td>\n",
       "    </tr>\n",
       "    <tr>\n",
       "      <th>50%</th>\n",
       "      <td>21.0</td>\n",
       "    </tr>\n",
       "    <tr>\n",
       "      <th>75%</th>\n",
       "      <td>21.5</td>\n",
       "    </tr>\n",
       "    <tr>\n",
       "      <th>max</th>\n",
       "      <td>22.0</td>\n",
       "    </tr>\n",
       "  </tbody>\n",
       "</table>\n",
       "</div>"
      ],
      "text/plain": [
       "        age\n",
       "count   3.0\n",
       "mean   21.0\n",
       "std     1.0\n",
       "min    20.0\n",
       "25%    20.5\n",
       "50%    21.0\n",
       "75%    21.5\n",
       "max    22.0"
      ]
     },
     "execution_count": 25,
     "metadata": {},
     "output_type": "execute_result"
    }
   ],
   "source": [
    "#Q17\n",
    "df.describe()"
   ]
  },
  {
   "cell_type": "code",
   "execution_count": 27,
   "id": "13d658df",
   "metadata": {},
   "outputs": [
    {
     "data": {
      "text/plain": [
       "3"
      ]
     },
     "execution_count": 27,
     "metadata": {},
     "output_type": "execute_result"
    }
   ],
   "source": [
    "#Q18\n",
    "df['name'].nunique()"
   ]
  },
  {
   "cell_type": "code",
   "execution_count": 32,
   "id": "b007dfe5",
   "metadata": {},
   "outputs": [],
   "source": [
    "#19\n",
    "#df.where(condition).dropna()\n",
    "#df[df[column] condtion logical operator df[column] condition...]"
   ]
  },
  {
   "cell_type": "code",
   "execution_count": null,
   "id": "e263e317",
   "metadata": {},
   "outputs": [],
   "source": [
    "#20\n",
    "df['name'].nunique()"
   ]
  }
 ],
 "metadata": {
  "kernelspec": {
   "display_name": "Python 3 (ipykernel)",
   "language": "python",
   "name": "python3"
  },
  "language_info": {
   "codemirror_mode": {
    "name": "ipython",
    "version": 3
   },
   "file_extension": ".py",
   "mimetype": "text/x-python",
   "name": "python",
   "nbconvert_exporter": "python",
   "pygments_lexer": "ipython3",
   "version": "3.11.1"
  }
 },
 "nbformat": 4,
 "nbformat_minor": 5
}
