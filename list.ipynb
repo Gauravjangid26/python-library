{
 "cells": [
  {
   "cell_type": "code",
   "execution_count": 1,
   "metadata": {},
   "outputs": [
    {
     "data": {
      "text/plain": [
       "<list_iterator at 0x105cdae90>"
      ]
     },
     "execution_count": 1,
     "metadata": {},
     "output_type": "execute_result"
    }
   ],
   "source": [
    "iter([1,2,3])"
   ]
  },
  {
   "cell_type": "code",
   "execution_count": 7,
   "metadata": {},
   "outputs": [],
   "source": [
    "#all odd numbers\n",
    "ls=[]\n",
    "for i in range(0,len(ls)):\n",
    "    if ls[i]%2==1:\n",
    "        print(ls[i])"
   ]
  },
  {
   "cell_type": "code",
   "execution_count": 8,
   "metadata": {},
   "outputs": [],
   "source": [
    "#all even numbers\n",
    "ls=[]\n",
    "for i in range(0,len(ls)):\n",
    "    if ls[i]%2==0:\n",
    "        print(ls[i])"
   ]
  },
  {
   "cell_type": "code",
   "execution_count": 13,
   "metadata": {},
   "outputs": [
    {
     "name": "stdout",
     "output_type": "stream",
     "text": [
      "20 20\n",
      "30 30\n",
      "40 40\n",
      "50 50\n",
      "50 41\n",
      "50 23\n"
     ]
    }
   ],
   "source": [
    "ls=[20,30,40,50,41,23]\n",
    "max1=ls[0]\n",
    "for i in range(0,len(ls)):\n",
    "    if max1<ls[i]:\n",
    "        max1=ls[i]\n",
    "    print(max1,ls[i])        "
   ]
  },
  {
   "cell_type": "code",
   "execution_count": 15,
   "metadata": {},
   "outputs": [
    {
     "name": "stdout",
     "output_type": "stream",
     "text": [
      "20\n",
      "nested 20 30\n",
      "nested 20 40\n",
      "nested 20 50\n",
      "nested 20 41\n",
      "nested 20 23\n"
     ]
    }
   ],
   "source": [
    "#two pointer approach\n",
    "\n",
    "ls=[20,30,40,50,41,23]\n",
    "\n",
    "for i in range(0,1):\n",
    "    print(ls[i])\n",
    "    for j in range(1,len(ls)):\n",
    "        print(\"nested\",ls[i],ls[j]) "
   ]
  },
  {
   "cell_type": "code",
   "execution_count": 18,
   "metadata": {},
   "outputs": [
    {
     "name": "stdout",
     "output_type": "stream",
     "text": [
      "nested 30 50\n"
     ]
    }
   ],
   "source": [
    "ls=[20,30,40,50,41,23]\n",
    "\n",
    "for i in range(0,len(ls)):\n",
    "    for j in range(i+1,len(ls)):\n",
    "        sum=ls[i]+ls[j]\n",
    "        if sum==80:\n",
    "            print(\"nested\",ls[i],ls[j]) "
   ]
  },
  {
   "cell_type": "markdown",
   "metadata": {},
   "source": [
    "1. Write a Python program to find the maximum element in a list of numbers without\n",
    "max functions\n",
    "numbers = [10, 20, 4, 45, 99]\n",
    "The maximum element is: 99\n",
    "2. Write a Python program to sum all the elements in a list of numbers.\n",
    "a. numbers = [10, 20, 30, 40]\n",
    "b. The sum of all elements is: 100\n",
    "3. Write a Python program to reverse a list without reverse or slicing operator\n",
    "a. numbers = [1, 2, 3, 4, 5]\n",
    "b. Reversed list: [5, 4, 3, 2, 1]\n",
    "4. Write a Python program to sort a list in ascending order without sort functions\n",
    "5. Write a Python program to remove duplicates from a list while maintaining the order\n",
    "of elements.\n",
    "a. numbers = [1, 2, 2, 3, 4, 4, 5]\n",
    "b. List after removing duplicates: [1, 2, 3, 4, 5]\n",
    "6. Write a Python program to find all pairs of numbers in a list that add up to a specific\n",
    "target sum.\n",
    "a. numbers = [1, 2, 3, 4, 3, 5, 6] target_sum = 6\n",
    "b. Pairs that add up to 6: [(3, 3), (2, 4), (1, 5)]\n",
    "7. Write a Python program to flatten a nested list (list within lists) into a single list.\n",
    "a. nested_list = [1, [2, 3], [4, [5, 6], 7], 8]\n",
    "b. Flattened list: [1, 2, 3, 4, 5, 6, 7, 8]\n",
    "8. Write a Python program to find the sum of the elements in a list, excluding the largest\n",
    "and smallest element. Don’t use max or min functions\n",
    "a. numbers = [1, 2, 3, 4, 5]\n",
    "b. Sum excluding the largest and smallest element: 9\n",
    "\n",
    "Intermediate\n",
    "\n",
    "9. Write a Python program to check if a list is a palindrome (reads the same backward\n",
    "as forward) using two pointer approach\n",
    "a. numbers = [1, 2, 3, 2, 1]\n",
    "b. True\n",
    "10. Write a function to remove duplicate elements from a list.\n",
    "a. numbers = [1, 2, 3, 2, 4, 5, 1, 6]\n",
    "b. [1, 2, 3, 4, 5, 6]\n",
    "11. Find Common Elements in Two Lists\n",
    "a. list1 = [1, 2, 3, 4, 5]\n",
    "b. list2 = [3, 4, 5, 6, 7]\n",
    "c. Result: [3, 4, 5]\n",
    "12. Find the Longest Word in a List\n",
    "a. words = [\"apple\", \"banana\", \"strawberry\", \"kiwi\"]\n",
    "b. Strawberry\n",
    "\n",
    "13. Find Missing Number in a List"
   ]
  },
  {
   "cell_type": "code",
   "execution_count": null,
   "metadata": {},
   "outputs": [],
   "source": [
    "#1 \n",
    "ls=[20,30,40,50,41,23]\n",
    "\n",
    "for i in range(0,len(ls)):\n",
    "    for j in range(i+1,len(ls)):\n",
    "        sum=ls[i]+ls[j]\n",
    "        if sum==80:\n",
    "            print(\"nested\",ls[i],ls[j]) "
   ]
  },
  {
   "cell_type": "code",
   "execution_count": 4,
   "metadata": {},
   "outputs": [
    {
     "name": "stdout",
     "output_type": "stream",
     "text": [
      "100\n"
     ]
    }
   ],
   "source": [
    "#2\n",
    "ls = [10, 20, 30, 40]\n",
    "sum=0\n",
    "\n",
    "for i in range(0,len(ls)):\n",
    "    sum=sum+ls[i]\n",
    "    \n",
    "print(sum)"
   ]
  },
  {
   "cell_type": "code",
   "execution_count": 12,
   "metadata": {},
   "outputs": [
    {
     "name": "stdout",
     "output_type": "stream",
     "text": [
      "[5, 4, 3, 2, 1]\n"
     ]
    }
   ],
   "source": [
    "#3\n",
    "numbers = [1, 2, 3, 4, 5]\n",
    "reversed_list = []\n",
    "\n",
    "for i in range(len(numbers)-1, -1, -1):\n",
    "    reversed_list.append(numbers[i])\n",
    "\n",
    "print(reversed_list)"
   ]
  },
  {
   "cell_type": "code",
   "execution_count": 14,
   "metadata": {},
   "outputs": [
    {
     "name": "stdout",
     "output_type": "stream",
     "text": [
      "[10, 20, 30, 40]\n"
     ]
    }
   ],
   "source": [
    "#4Write a Python program to sort a list in ascending order without sort functions\n",
    "ls = [40,10, 20, 30]\n",
    "for i in range(len(ls)):\n",
    "    j=0\n",
    "    while j<len(ls)-i-1:\n",
    "        if ls[j]>ls[j+1]:\n",
    "            ls[j],ls[j+1]=ls[j+1],ls[j]\n",
    "        j+=1\n",
    "print(ls)?\n",
    "    "
   ]
  },
  {
   "cell_type": "code",
   "execution_count": 21,
   "metadata": {},
   "outputs": [
    {
     "name": "stdout",
     "output_type": "stream",
     "text": [
      "[1, 2, 3, 4, 5]\n"
     ]
    }
   ],
   "source": [
    "#5\n",
    "ls = [1, 2, 2, 3, 4, 4, 5]\n",
    "new_ls=[]\n",
    "for i in range(len(ls)):\n",
    "    if ls[i] not in new_ls:\n",
    "        new_ls.append(ls[i])\n",
    "print(new_ls)"
   ]
  },
  {
   "cell_type": "code",
   "execution_count": 29,
   "metadata": {},
   "outputs": [
    {
     "name": "stdout",
     "output_type": "stream",
     "text": [
      "1 5\n",
      "2 4\n",
      "2 4\n",
      "2 4\n"
     ]
    }
   ],
   "source": [
    "#6. Write a Python program to find all pairs of numbers in a list that add up to a specific\n",
    "\n",
    "numbers = [1, 2, 3, 4, 3, 5, 6]\n",
    "target_sum = 6\n",
    "\n",
    "for i in range(len(ls)-1):\n",
    "    j=i+1\n",
    "    \n",
    "    while j<len(ls):\n",
    "        sum=ls[i]+ls[j]\n",
    "        if sum==target_sum:\n",
    "            print(ls[i],ls[j])\n",
    "        j+=1"
   ]
  },
  {
   "cell_type": "code",
   "execution_count": null,
   "metadata": {},
   "outputs": [],
   "source": [
    "c\n"
   ]
  }
 ],
 "metadata": {
  "kernelspec": {
   "display_name": "Python 3",
   "language": "python",
   "name": "python3"
  },
  "language_info": {
   "codemirror_mode": {
    "name": "ipython",
    "version": 3
   },
   "file_extension": ".py",
   "mimetype": "text/x-python",
   "name": "python",
   "nbconvert_exporter": "python",
   "pygments_lexer": "ipython3",
   "version": "3.11.1"
  }
 },
 "nbformat": 4,
 "nbformat_minor": 2
}
